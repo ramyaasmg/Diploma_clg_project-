{
 "cells": [
  {
   "cell_type": "markdown",
   "id": "f850d638",
   "metadata": {},
   "source": [
    "# Predicting Stock price Using Linear Regression model"
   ]
  },
  {
   "cell_type": "markdown",
   "id": "125f8512",
   "metadata": {},
   "source": [
    "## Step 1:- Data Collection"
   ]
  },
  {
   "cell_type": "markdown",
   "id": "c4e82a8c",
   "metadata": {},
   "source": [
    "### Imporing Packages"
   ]
  },
  {
   "cell_type": "code",
   "execution_count": 1,
   "id": "909de790",
   "metadata": {},
   "outputs": [],
   "source": [
    "import numpy as np\n",
    "import pandas as pd\n",
    "import matplotlib.pyplot as plt\n",
    "import seaborn as sns\n",
    "from sklearn.model_selection import train_test_split\n",
    "from sklearn.preprocessing import StandardScaler\n",
    "from sklearn.preprocessing import MinMaxScaler\n",
    "from sklearn.linear_model import LinearRegression\n",
    "from sklearn.metrics import r2_score"
   ]
  },
  {
   "cell_type": "markdown",
   "id": "bf508120",
   "metadata": {},
   "source": [
    "### Imporing Dataset "
   ]
  },
  {
   "cell_type": "code",
   "execution_count": 3,
   "id": "5a9baa9d",
   "metadata": {},
   "outputs": [],
   "source": [
    "df=pd.read_csv(r\"TATAMOTORS.NS.csv\")"
   ]
  },
  {
   "cell_type": "code",
   "execution_count": 5,
   "id": "ec55d0bf",
   "metadata": {},
   "outputs": [
    {
     "data": {
      "text/html": [
       "<div>\n",
       "<style scoped>\n",
       "    .dataframe tbody tr th:only-of-type {\n",
       "        vertical-align: middle;\n",
       "    }\n",
       "\n",
       "    .dataframe tbody tr th {\n",
       "        vertical-align: top;\n",
       "    }\n",
       "\n",
       "    .dataframe thead th {\n",
       "        text-align: right;\n",
       "    }\n",
       "</style>\n",
       "<table border=\"1\" class=\"dataframe\">\n",
       "  <thead>\n",
       "    <tr style=\"text-align: right;\">\n",
       "      <th></th>\n",
       "      <th>Date</th>\n",
       "      <th>Open</th>\n",
       "      <th>High</th>\n",
       "      <th>Low</th>\n",
       "      <th>Close</th>\n",
       "      <th>Adj Close</th>\n",
       "      <th>Volume</th>\n",
       "    </tr>\n",
       "  </thead>\n",
       "  <tbody>\n",
       "    <tr>\n",
       "      <th>0</th>\n",
       "      <td>2006-12-01</td>\n",
       "      <td>173.042435</td>\n",
       "      <td>173.042435</td>\n",
       "      <td>155.268692</td>\n",
       "      <td>161.515854</td>\n",
       "      <td>141.449173</td>\n",
       "      <td>10001085.0</td>\n",
       "    </tr>\n",
       "    <tr>\n",
       "      <th>1</th>\n",
       "      <td>2006-12-04</td>\n",
       "      <td>162.023666</td>\n",
       "      <td>170.512909</td>\n",
       "      <td>162.023666</td>\n",
       "      <td>169.085266</td>\n",
       "      <td>148.078171</td>\n",
       "      <td>18491096.0</td>\n",
       "    </tr>\n",
       "    <tr>\n",
       "      <th>2</th>\n",
       "      <td>2006-12-05</td>\n",
       "      <td>170.167969</td>\n",
       "      <td>170.867416</td>\n",
       "      <td>167.293518</td>\n",
       "      <td>169.209824</td>\n",
       "      <td>148.187225</td>\n",
       "      <td>6699838.0</td>\n",
       "    </tr>\n",
       "    <tr>\n",
       "      <th>3</th>\n",
       "      <td>2006-12-06</td>\n",
       "      <td>167.121048</td>\n",
       "      <td>170.167969</td>\n",
       "      <td>165.568832</td>\n",
       "      <td>168.912796</td>\n",
       "      <td>147.927109</td>\n",
       "      <td>4822862.0</td>\n",
       "    </tr>\n",
       "    <tr>\n",
       "      <th>4</th>\n",
       "      <td>2006-12-07</td>\n",
       "      <td>168.634933</td>\n",
       "      <td>171.701019</td>\n",
       "      <td>167.322250</td>\n",
       "      <td>171.068634</td>\n",
       "      <td>149.815109</td>\n",
       "      <td>3963218.0</td>\n",
       "    </tr>\n",
       "  </tbody>\n",
       "</table>\n",
       "</div>"
      ],
      "text/plain": [
       "         Date        Open        High         Low       Close   Adj Close  \\\n",
       "0  2006-12-01  173.042435  173.042435  155.268692  161.515854  141.449173   \n",
       "1  2006-12-04  162.023666  170.512909  162.023666  169.085266  148.078171   \n",
       "2  2006-12-05  170.167969  170.867416  167.293518  169.209824  148.187225   \n",
       "3  2006-12-06  167.121048  170.167969  165.568832  168.912796  147.927109   \n",
       "4  2006-12-07  168.634933  171.701019  167.322250  171.068634  149.815109   \n",
       "\n",
       "       Volume  \n",
       "0  10001085.0  \n",
       "1  18491096.0  \n",
       "2   6699838.0  \n",
       "3   4822862.0  \n",
       "4   3963218.0  "
      ]
     },
     "execution_count": 5,
     "metadata": {},
     "output_type": "execute_result"
    }
   ],
   "source": [
    "df.head() #this data set has 7 features "
   ]
  },
  {
   "cell_type": "code",
   "execution_count": 7,
   "id": "886de927",
   "metadata": {},
   "outputs": [
    {
     "data": {
      "text/plain": [
       "(4233, 7)"
      ]
     },
     "execution_count": 7,
     "metadata": {},
     "output_type": "execute_result"
    }
   ],
   "source": [
    "df.shape # the original dataset has 4233 rows and 7 columns"
   ]
  },
  {
   "cell_type": "code",
   "execution_count": 8,
   "id": "1494f9cd",
   "metadata": {
    "scrolled": true
   },
   "outputs": [
    {
     "data": {
      "text/html": [
       "<div>\n",
       "<style scoped>\n",
       "    .dataframe tbody tr th:only-of-type {\n",
       "        vertical-align: middle;\n",
       "    }\n",
       "\n",
       "    .dataframe tbody tr th {\n",
       "        vertical-align: top;\n",
       "    }\n",
       "\n",
       "    .dataframe thead th {\n",
       "        text-align: right;\n",
       "    }\n",
       "</style>\n",
       "<table border=\"1\" class=\"dataframe\">\n",
       "  <thead>\n",
       "    <tr style=\"text-align: right;\">\n",
       "      <th></th>\n",
       "      <th>Open</th>\n",
       "      <th>High</th>\n",
       "      <th>Low</th>\n",
       "      <th>Close</th>\n",
       "      <th>Adj Close</th>\n",
       "      <th>Volume</th>\n",
       "    </tr>\n",
       "  </thead>\n",
       "  <tbody>\n",
       "    <tr>\n",
       "      <th>count</th>\n",
       "      <td>4226.000000</td>\n",
       "      <td>4226.000000</td>\n",
       "      <td>4226.000000</td>\n",
       "      <td>4226.000000</td>\n",
       "      <td>4226.000000</td>\n",
       "      <td>4.226000e+03</td>\n",
       "    </tr>\n",
       "    <tr>\n",
       "      <th>mean</th>\n",
       "      <td>294.107080</td>\n",
       "      <td>298.331216</td>\n",
       "      <td>289.338873</td>\n",
       "      <td>293.656721</td>\n",
       "      <td>289.343326</td>\n",
       "      <td>1.862898e+07</td>\n",
       "    </tr>\n",
       "    <tr>\n",
       "      <th>std</th>\n",
       "      <td>158.762613</td>\n",
       "      <td>160.110199</td>\n",
       "      <td>157.127829</td>\n",
       "      <td>158.536982</td>\n",
       "      <td>160.794217</td>\n",
       "      <td>2.445423e+07</td>\n",
       "    </tr>\n",
       "    <tr>\n",
       "      <th>min</th>\n",
       "      <td>24.952360</td>\n",
       "      <td>26.040688</td>\n",
       "      <td>24.695120</td>\n",
       "      <td>24.972149</td>\n",
       "      <td>22.980335</td>\n",
       "      <td>0.000000e+00</td>\n",
       "    </tr>\n",
       "    <tr>\n",
       "      <th>25%</th>\n",
       "      <td>155.343784</td>\n",
       "      <td>158.097477</td>\n",
       "      <td>152.566769</td>\n",
       "      <td>155.336357</td>\n",
       "      <td>145.959488</td>\n",
       "      <td>6.562863e+06</td>\n",
       "    </tr>\n",
       "    <tr>\n",
       "      <th>50%</th>\n",
       "      <td>278.500000</td>\n",
       "      <td>282.420746</td>\n",
       "      <td>272.551621</td>\n",
       "      <td>278.290054</td>\n",
       "      <td>274.208282</td>\n",
       "      <td>1.069339e+07</td>\n",
       "    </tr>\n",
       "    <tr>\n",
       "      <th>75%</th>\n",
       "      <td>423.862496</td>\n",
       "      <td>428.412506</td>\n",
       "      <td>418.802757</td>\n",
       "      <td>423.137497</td>\n",
       "      <td>421.586052</td>\n",
       "      <td>1.963927e+07</td>\n",
       "    </tr>\n",
       "    <tr>\n",
       "      <th>max</th>\n",
       "      <td>823.849976</td>\n",
       "      <td>827.000000</td>\n",
       "      <td>819.500000</td>\n",
       "      <td>823.549988</td>\n",
       "      <td>823.549988</td>\n",
       "      <td>3.905778e+08</td>\n",
       "    </tr>\n",
       "  </tbody>\n",
       "</table>\n",
       "</div>"
      ],
      "text/plain": [
       "              Open         High          Low        Close    Adj Close  \\\n",
       "count  4226.000000  4226.000000  4226.000000  4226.000000  4226.000000   \n",
       "mean    294.107080   298.331216   289.338873   293.656721   289.343326   \n",
       "std     158.762613   160.110199   157.127829   158.536982   160.794217   \n",
       "min      24.952360    26.040688    24.695120    24.972149    22.980335   \n",
       "25%     155.343784   158.097477   152.566769   155.336357   145.959488   \n",
       "50%     278.500000   282.420746   272.551621   278.290054   274.208282   \n",
       "75%     423.862496   428.412506   418.802757   423.137497   421.586052   \n",
       "max     823.849976   827.000000   819.500000   823.549988   823.549988   \n",
       "\n",
       "             Volume  \n",
       "count  4.226000e+03  \n",
       "mean   1.862898e+07  \n",
       "std    2.445423e+07  \n",
       "min    0.000000e+00  \n",
       "25%    6.562863e+06  \n",
       "50%    1.069339e+07  \n",
       "75%    1.963927e+07  \n",
       "max    3.905778e+08  "
      ]
     },
     "execution_count": 8,
     "metadata": {},
     "output_type": "execute_result"
    }
   ],
   "source": [
    "df.describe()"
   ]
  },
  {
   "cell_type": "code",
   "execution_count": 9,
   "id": "86047c80",
   "metadata": {
    "scrolled": true
   },
   "outputs": [
    {
     "name": "stdout",
     "output_type": "stream",
     "text": [
      "Dataframe cotain stock price between2006-12-01 2024-01-19\n"
     ]
    }
   ],
   "source": [
    "print(f'Dataframe cotain stock price between{df.Date.min()} {df.Date.max()}')\n",
    "# this dataset as 2006-12-01 to 2024-01-19 days stock record "
   ]
  },
  {
   "cell_type": "markdown",
   "id": "b11159b3",
   "metadata": {},
   "source": [
    "## Step 2:- Exploratory Data Analusis "
   ]
  },
  {
   "cell_type": "code",
   "execution_count": 40,
   "id": "f0add3d2",
   "metadata": {},
   "outputs": [
    {
     "data": {
      "text/plain": [
       "(array([-1000.,     0.,  1000.,  2000.,  3000.,  4000.,  5000.]),\n",
       " [Text(-1000.0, 0, '2020-01-10'),\n",
       "  Text(0.0, 0, '2006-12-01'),\n",
       "  Text(1000.0, 0, '2010-12-22'),\n",
       "  Text(2000.0, 0, '2015-01-07'),\n",
       "  Text(3000.0, 0, '2019-01-24'),\n",
       "  Text(4000.0, 0, '2023-02-09'),\n",
       "  Text(5000.0, 0, '')])"
      ]
     },
     "execution_count": 40,
     "metadata": {},
     "output_type": "execute_result"
    },
    {
     "data": {
      "image/png": "[encoded data removed]",
      "text/plain": [
       "<Figure size 640x480 with 1 Axes>"
      ]
     },
     "metadata": {},
     "output_type": "display_data"
    }
   ],
   "source": [
    "df.plot(x=\"Date\", y=\"Close\")# this plot shows the closing price of 2000 to 2020 year\n",
    "plt.xticks(rotation=45)"
   ]
  },
  {
   "cell_type": "code",
   "execution_count": 42,
   "id": "2a55fdc4",
   "metadata": {},
   "outputs": [
    {
     "data": {
      "text/plain": [
       "<Axes: xlabel='Date'>"
      ]
     },
     "execution_count": 42,
     "metadata": {},
     "output_type": "execute_result"
    },
    {
     "data": {
      "image/png": "[encoded data removed]",
      "text/plain": [
       "<Figure size 640x480 with 1 Axes>"
      ]
     },
     "metadata": {},
     "output_type": "display_data"
    }
   ],
   "source": [
    "df.plot(x=\"Date\", y=\"Close\",color='red')# this plot shows the closing price of 2000 to 2020 year"
   ]
  },
  {
   "cell_type": "code",
   "execution_count": 9,
   "id": "1b34e799",
   "metadata": {},
   "outputs": [
    {
     "data": {
      "image/png": "[encoded data removed]",
      "text/plain": [
       "<Figure size 1500x500 with 1 Axes>"
      ]
     },
     "metadata": {},
     "output_type": "display_data"
    }
   ],
   "source": [
    "plt.figure(figsize=(15,5))\n",
    "plt.plot(df['Low'])\n",
    "plt.title('Stock  Dates', fontsize=15)\n",
    "plt.ylabel('Price in dollars.')\n",
    "plt.show()"
   ]
  },
  {
   "cell_type": "markdown",
   "id": "98ea46ae",
   "metadata": {},
   "source": [
    "## Step 3:- Data preprocessing"
   ]
  },
  {
   "cell_type": "markdown",
   "id": "aad833c0",
   "metadata": {},
   "source": [
    "### :- Data Cleaning & Headling with missing values"
   ]
  },
  {
   "cell_type": "code",
   "execution_count": 12,
   "id": "ac5a1fdd",
   "metadata": {},
   "outputs": [
    {
     "data": {
      "text/plain": [
       "42"
      ]
     },
     "execution_count": 12,
     "metadata": {},
     "output_type": "execute_result"
    }
   ],
   "source": [
    "df.isnull().sum().sum()#this dataset has 42 messing value "
   ]
  },
  {
   "cell_type": "code",
   "execution_count": 13,
   "id": "807a70a1",
   "metadata": {},
   "outputs": [
    {
     "data": {
      "text/plain": [
       "Date         0\n",
       "Open         7\n",
       "High         7\n",
       "Low          7\n",
       "Close        7\n",
       "Adj Close    7\n",
       "Volume       7\n",
       "dtype: int64"
      ]
     },
     "execution_count": 13,
     "metadata": {},
     "output_type": "execute_result"
    }
   ],
   "source": [
    "df.isna().sum()# expact Data columns all the Column have 7 missing values"
   ]
  },
  {
   "cell_type": "code",
   "execution_count": 14,
   "id": "0a9f6d30",
   "metadata": {},
   "outputs": [
    {
     "data": {
      "text/plain": [
       "0"
      ]
     },
     "execution_count": 14,
     "metadata": {},
     "output_type": "execute_result"
    }
   ],
   "source": [
    "df.duplicated().sum() # this data set has 0 duplicated value"
   ]
  },
  {
   "cell_type": "markdown",
   "id": "abeaa5f4",
   "metadata": {},
   "source": [
    "### Deal with the missing data"
   ]
  },
  {
   "cell_type": "markdown",
   "id": "6b6bcb60",
   "metadata": {},
   "source": [
    "* ***There are two ways, we drop the missing value or replace the datas***\n",
    "* ***In this data date,Adj close column this not nasser so we drop that column***"
   ]
  },
  {
   "cell_type": "markdown",
   "id": "420826ad",
   "metadata": {},
   "source": [
    "### Replace the datas"
   ]
  },
  {
   "cell_type": "code",
   "execution_count": 18,
   "id": "339bcc54",
   "metadata": {},
   "outputs": [
    {
     "data": {
      "text/plain": [
       "10693392.5"
      ]
     },
     "execution_count": 18,
     "metadata": {},
     "output_type": "execute_result"
    }
   ],
   "source": [
    "df['Volume'].median() # I volume median value is 10674193.0,so we fill the nan value "
   ]
  },
  {
   "cell_type": "code",
   "execution_count": 19,
   "id": "d7ca9fd6",
   "metadata": {},
   "outputs": [],
   "source": [
    "df['Volume'].replace(np.nan,10674193.0,inplace=True)"
   ]
  },
  {
   "cell_type": "code",
   "execution_count": 20,
   "id": "34d5aa21",
   "metadata": {
    "scrolled": true
   },
   "outputs": [
    {
     "data": {
      "text/plain": [
       "0"
      ]
     },
     "execution_count": 20,
     "metadata": {},
     "output_type": "execute_result"
    }
   ],
   "source": [
    "df['Volume'].isnull().sum()# Now volume column is 0 missing value"
   ]
  },
  {
   "cell_type": "code",
   "execution_count": 21,
   "id": "7b7610be",
   "metadata": {
    "scrolled": true
   },
   "outputs": [
    {
     "data": {
      "text/plain": [
       "Date         0\n",
       "Open         7\n",
       "High         7\n",
       "Low          7\n",
       "Close        7\n",
       "Adj Close    7\n",
       "Volume       0\n",
       "dtype: int64"
      ]
     },
     "execution_count": 21,
     "metadata": {},
     "output_type": "execute_result"
    }
   ],
   "source": [
    "df.isna().sum()"
   ]
  },
  {
   "cell_type": "code",
   "execution_count": 22,
   "id": "878a0717",
   "metadata": {},
   "outputs": [],
   "source": [
    "Open_median=df['Open'].median() # I Open median value is 278.5,so we fill the nan value \n",
    "High_median=df['High'].median() # I Open median value is 278.5,so we fill the nan value \n",
    "Low_median=df['Low'].median() # I Open median value is 278.5,so we fill the nan value \n",
    "Close_median=df['Close'].median() # I Open median value is 278.5,so we fill the nan value\n",
    "AdjClose_median=df['Adj Close'].median() # I Open median value is 278.5,so we fill the nan value "
   ]
  },
  {
   "cell_type": "code",
   "execution_count": 23,
   "id": "025538d5",
   "metadata": {},
   "outputs": [
    {
     "name": "stdout",
     "output_type": "stream",
     "text": [
      "the Open column median value is 278.5\n",
      "the High column median value is 282.420746\n",
      "the Low column median value is 272.5516205\n",
      "the Close column median value is 278.2900545\n",
      "the AdjClose column median value is 274.2082825\n"
     ]
    }
   ],
   "source": [
    "print(\"the Open column median value is\",Open_median)\n",
    "print(\"the High column median value is\",High_median)\n",
    "print(\"the Low column median value is\",Low_median)\n",
    "print(\"the Close column median value is\",Close_median)\n",
    "print(\"the AdjClose column median value is\",AdjClose_median)"
   ]
  },
  {
   "cell_type": "code",
   "execution_count": 24,
   "id": "caa270d2",
   "metadata": {},
   "outputs": [],
   "source": [
    "df['Open'].replace(np.nan,279.1804965,inplace=True)\n",
    "df['High'].replace(np.nan,282.470215,inplace=True)\n",
    "df['Low'].replace(np.nan,272.576355,inplace=True)\n",
    "df['Close'].replace(np.nan,278.314789,inplace=True)\n",
    "df['Adj Close'].replace(np.nan,274.29007,inplace=True)\n"
   ]
  },
  {
   "cell_type": "code",
   "execution_count": 25,
   "id": "e35e10c0",
   "metadata": {},
   "outputs": [
    {
     "data": {
      "text/plain": [
       "0"
      ]
     },
     "execution_count": 25,
     "metadata": {},
     "output_type": "execute_result"
    }
   ],
   "source": [
    "df.isnull().sum().sum()"
   ]
  },
  {
   "cell_type": "markdown",
   "id": "b55bade7",
   "metadata": {},
   "source": [
    "* ***Now all the null values are replaced now this Data set as 0 nan values***"
   ]
  },
  {
   "cell_type": "code",
   "execution_count": 26,
   "id": "f2147495",
   "metadata": {},
   "outputs": [
    {
     "data": {
      "text/plain": [
       "(4233, 7)"
      ]
     },
     "execution_count": 26,
     "metadata": {},
     "output_type": "execute_result"
    }
   ],
   "source": [
    "df.shape"
   ]
  },
  {
   "cell_type": "markdown",
   "id": "6ca809e0",
   "metadata": {},
   "source": [
    "## Step 4:- Data Integration and Reduction"
   ]
  },
  {
   "cell_type": "code",
   "execution_count": 29,
   "id": "91dc0ce1",
   "metadata": {},
   "outputs": [],
   "source": [
    "x = df.drop(columns=['Date', 'Open'])  # Assuming 'Date' is not a feature and 'Open' is the target variable\n",
    "y = df['Open']"
   ]
  },
  {
   "cell_type": "markdown",
   "id": "c5967585",
   "metadata": {},
   "source": [
    "## step 6:- Data Splitting"
   ]
  },
  {
   "cell_type": "code",
   "execution_count": 30,
   "id": "aa8e734c",
   "metadata": {},
   "outputs": [],
   "source": [
    "x_train, x_test, y_train, y_test = train_test_split(x, y, test_size=0.2, random_state=42)"
   ]
  },
  {
   "cell_type": "markdown",
   "id": "76c70ebe",
   "metadata": {},
   "source": [
    "* ***Now we split the dataset into trining and testing***"
   ]
  },
  {
   "cell_type": "markdown",
   "id": "1fae5aae",
   "metadata": {},
   "source": [
    "## Step 5:-Feature Scaling"
   ]
  },
  {
   "cell_type": "code",
   "execution_count": 31,
   "id": "c943ac81",
   "metadata": {},
   "outputs": [],
   "source": [
    "Scaler=StandardScaler()"
   ]
  },
  {
   "cell_type": "code",
   "execution_count": 32,
   "id": "a172cdb8",
   "metadata": {},
   "outputs": [
    {
     "data": {
      "text/html": [
       "<style>#sk-container-id-1 {color: black;}#sk-container-id-1 pre{padding: 0;}#sk-container-id-1 div.sk-toggleable {background-color: white;}#sk-container-id-1 label.sk-toggleable__label {cursor: pointer;display: block;width: 100%;margin-bottom: 0;padding: 0.3em;box-sizing: border-box;text-align: center;}#sk-container-id-1 label.sk-toggleable__label-arrow:before {content: \"▸\";float: left;margin-right: 0.25em;color: #696969;}#sk-container-id-1 label.sk-toggleable__label-arrow:hover:before {color: black;}#sk-container-id-1 div.sk-estimator:hover label.sk-toggleable__label-arrow:before {color: black;}#sk-container-id-1 div.sk-toggleable__content {max-height: 0;max-width: 0;overflow: hidden;text-align: left;background-color: #f0f8ff;}#sk-container-id-1 div.sk-toggleable__content pre {margin: 0.2em;color: black;border-radius: 0.25em;background-color: #f0f8ff;}#sk-container-id-1 input.sk-toggleable__control:checked~div.sk-toggleable__content {max-height: 200px;max-width: 100%;overflow: auto;}#sk-container-id-1 input.sk-toggleable__control:checked~label.sk-toggleable__label-arrow:before {content: \"▾\";}#sk-container-id-1 div.sk-estimator input.sk-toggleable__control:checked~label.sk-toggleable__label {background-color: #d4ebff;}#sk-container-id-1 div.sk-label input.sk-toggleable__control:checked~label.sk-toggleable__label {background-color: #d4ebff;}#sk-container-id-1 input.sk-hidden--visually {border: 0;clip: rect(1px 1px 1px 1px);clip: rect(1px, 1px, 1px, 1px);height: 1px;margin: -1px;overflow: hidden;padding: 0;position: absolute;width: 1px;}#sk-container-id-1 div.sk-estimator {font-family: monospace;background-color: #f0f8ff;border: 1px dotted black;border-radius: 0.25em;box-sizing: border-box;margin-bottom: 0.5em;}#sk-container-id-1 div.sk-estimator:hover {background-color: #d4ebff;}#sk-container-id-1 div.sk-parallel-item::after {content: \"\";width: 100%;border-bottom: 1px solid gray;flex-grow: 1;}#sk-container-id-1 div.sk-label:hover label.sk-toggleable__label {background-color: #d4ebff;}#sk-container-id-1 div.sk-serial::before {content: \"\";position: absolute;border-left: 1px solid gray;box-sizing: border-box;top: 0;bottom: 0;left: 50%;z-index: 0;}#sk-container-id-1 div.sk-serial {display: flex;flex-direction: column;align-items: center;background-color: white;padding-right: 0.2em;padding-left: 0.2em;position: relative;}#sk-container-id-1 div.sk-item {position: relative;z-index: 1;}#sk-container-id-1 div.sk-parallel {display: flex;align-items: stretch;justify-content: center;background-color: white;position: relative;}#sk-container-id-1 div.sk-item::before, #sk-container-id-1 div.sk-parallel-item::before {content: \"\";position: absolute;border-left: 1px solid gray;box-sizing: border-box;top: 0;bottom: 0;left: 50%;z-index: -1;}#sk-container-id-1 div.sk-parallel-item {display: flex;flex-direction: column;z-index: 1;position: relative;background-color: white;}#sk-container-id-1 div.sk-parallel-item:first-child::after {align-self: flex-end;width: 50%;}#sk-container-id-1 div.sk-parallel-item:last-child::after {align-self: flex-start;width: 50%;}#sk-container-id-1 div.sk-parallel-item:only-child::after {width: 0;}#sk-container-id-1 div.sk-dashed-wrapped {border: 1px dashed gray;margin: 0 0.4em 0.5em 0.4em;box-sizing: border-box;padding-bottom: 0.4em;background-color: white;}#sk-container-id-1 div.sk-label label {font-family: monospace;font-weight: bold;display: inline-block;line-height: 1.2em;}#sk-container-id-1 div.sk-label-container {text-align: center;}#sk-container-id-1 div.sk-container {/* jupyter's `normalize.less` sets `[hidden] { display: none; }` but bootstrap.min.css set `[hidden] { display: none !important; }` so we also need the `!important` here to be able to override the default hidden behavior on the sphinx rendered scikit-learn.org. See: https://github.com/scikit-learn/scikit-learn/issues/21755 */display: inline-block !important;position: relative;}#sk-container-id-1 div.sk-text-repr-fallback {display: none;}</style><div id=\"sk-container-id-1\" class=\"sk-top-container\"><div class=\"sk-text-repr-fallback\"><pre>StandardScaler()</pre><b>In a Jupyter environment, please rerun this cell to show the HTML representation or trust the notebook. <br />On GitHub, the HTML representation is unable to render, please try loading this page with nbviewer.org.</b></div><div class=\"sk-container\" hidden><div class=\"sk-item\"><div class=\"sk-estimator sk-toggleable\"><input class=\"sk-toggleable__control sk-hidden--visually\" id=\"sk-estimator-id-1\" type=\"checkbox\" checked><label for=\"sk-estimator-id-1\" class=\"sk-toggleable__label sk-toggleable__label-arrow\">StandardScaler</label><div class=\"sk-toggleable__content\"><pre>StandardScaler()</pre></div></div></div></div></div>"
      ],
      "text/plain": [
       "StandardScaler()"
      ]
     },
     "execution_count": 32,
     "metadata": {},
     "output_type": "execute_result"
    }
   ],
   "source": [
    "Scaler.fit(x_train)"
   ]
  },
  {
   "cell_type": "markdown",
   "id": "70480c22",
   "metadata": {},
   "source": [
    "## Step 7:- Model Training"
   ]
  },
  {
   "cell_type": "code",
   "execution_count": 33,
   "id": "56169ef5",
   "metadata": {},
   "outputs": [],
   "source": [
    "lr=LinearRegression()"
   ]
  },
  {
   "cell_type": "code",
   "execution_count": 34,
   "id": "dbe6b03c",
   "metadata": {},
   "outputs": [
    {
     "data": {
      "text/html": [
       "<style>#sk-container-id-2 {color: black;}#sk-container-id-2 pre{padding: 0;}#sk-container-id-2 div.sk-toggleable {background-color: white;}#sk-container-id-2 label.sk-toggleable__label {cursor: pointer;display: block;width: 100%;margin-bottom: 0;padding: 0.3em;box-sizing: border-box;text-align: center;}#sk-container-id-2 label.sk-toggleable__label-arrow:before {content: \"▸\";float: left;margin-right: 0.25em;color: #696969;}#sk-container-id-2 label.sk-toggleable__label-arrow:hover:before {color: black;}#sk-container-id-2 div.sk-estimator:hover label.sk-toggleable__label-arrow:before {color: black;}#sk-container-id-2 div.sk-toggleable__content {max-height: 0;max-width: 0;overflow: hidden;text-align: left;background-color: #f0f8ff;}#sk-container-id-2 div.sk-toggleable__content pre {margin: 0.2em;color: black;border-radius: 0.25em;background-color: #f0f8ff;}#sk-container-id-2 input.sk-toggleable__control:checked~div.sk-toggleable__content {max-height: 200px;max-width: 100%;overflow: auto;}#sk-container-id-2 input.sk-toggleable__control:checked~label.sk-toggleable__label-arrow:before {content: \"▾\";}#sk-container-id-2 div.sk-estimator input.sk-toggleable__control:checked~label.sk-toggleable__label {background-color: #d4ebff;}#sk-container-id-2 div.sk-label input.sk-toggleable__control:checked~label.sk-toggleable__label {background-color: #d4ebff;}#sk-container-id-2 input.sk-hidden--visually {border: 0;clip: rect(1px 1px 1px 1px);clip: rect(1px, 1px, 1px, 1px);height: 1px;margin: -1px;overflow: hidden;padding: 0;position: absolute;width: 1px;}#sk-container-id-2 div.sk-estimator {font-family: monospace;background-color: #f0f8ff;border: 1px dotted black;border-radius: 0.25em;box-sizing: border-box;margin-bottom: 0.5em;}#sk-container-id-2 div.sk-estimator:hover {background-color: #d4ebff;}#sk-container-id-2 div.sk-parallel-item::after {content: \"\";width: 100%;border-bottom: 1px solid gray;flex-grow: 1;}#sk-container-id-2 div.sk-label:hover label.sk-toggleable__label {background-color: #d4ebff;}#sk-container-id-2 div.sk-serial::before {content: \"\";position: absolute;border-left: 1px solid gray;box-sizing: border-box;top: 0;bottom: 0;left: 50%;z-index: 0;}#sk-container-id-2 div.sk-serial {display: flex;flex-direction: column;align-items: center;background-color: white;padding-right: 0.2em;padding-left: 0.2em;position: relative;}#sk-container-id-2 div.sk-item {position: relative;z-index: 1;}#sk-container-id-2 div.sk-parallel {display: flex;align-items: stretch;justify-content: center;background-color: white;position: relative;}#sk-container-id-2 div.sk-item::before, #sk-container-id-2 div.sk-parallel-item::before {content: \"\";position: absolute;border-left: 1px solid gray;box-sizing: border-box;top: 0;bottom: 0;left: 50%;z-index: -1;}#sk-container-id-2 div.sk-parallel-item {display: flex;flex-direction: column;z-index: 1;position: relative;background-color: white;}#sk-container-id-2 div.sk-parallel-item:first-child::after {align-self: flex-end;width: 50%;}#sk-container-id-2 div.sk-parallel-item:last-child::after {align-self: flex-start;width: 50%;}#sk-container-id-2 div.sk-parallel-item:only-child::after {width: 0;}#sk-container-id-2 div.sk-dashed-wrapped {border: 1px dashed gray;margin: 0 0.4em 0.5em 0.4em;box-sizing: border-box;padding-bottom: 0.4em;background-color: white;}#sk-container-id-2 div.sk-label label {font-family: monospace;font-weight: bold;display: inline-block;line-height: 1.2em;}#sk-container-id-2 div.sk-label-container {text-align: center;}#sk-container-id-2 div.sk-container {/* jupyter's `normalize.less` sets `[hidden] { display: none; }` but bootstrap.min.css set `[hidden] { display: none !important; }` so we also need the `!important` here to be able to override the default hidden behavior on the sphinx rendered scikit-learn.org. See: https://github.com/scikit-learn/scikit-learn/issues/21755 */display: inline-block !important;position: relative;}#sk-container-id-2 div.sk-text-repr-fallback {display: none;}</style><div id=\"sk-container-id-2\" class=\"sk-top-container\"><div class=\"sk-text-repr-fallback\"><pre>LinearRegression()</pre><b>In a Jupyter environment, please rerun this cell to show the HTML representation or trust the notebook. <br />On GitHub, the HTML representation is unable to render, please try loading this page with nbviewer.org.</b></div><div class=\"sk-container\" hidden><div class=\"sk-item\"><div class=\"sk-estimator sk-toggleable\"><input class=\"sk-toggleable__control sk-hidden--visually\" id=\"sk-estimator-id-2\" type=\"checkbox\" checked><label for=\"sk-estimator-id-2\" class=\"sk-toggleable__label sk-toggleable__label-arrow\">LinearRegression</label><div class=\"sk-toggleable__content\"><pre>LinearRegression()</pre></div></div></div></div></div>"
      ],
      "text/plain": [
       "LinearRegression()"
      ]
     },
     "execution_count": 34,
     "metadata": {},
     "output_type": "execute_result"
    }
   ],
   "source": [
    "lr.fit(x_train,y_train)"
   ]
  },
  {
   "cell_type": "markdown",
   "id": "1b49f977",
   "metadata": {},
   "source": [
    "* ***Now we can see the origenal data pridiction and model prediction***"
   ]
  },
  {
   "cell_type": "markdown",
   "id": "aa74b524",
   "metadata": {},
   "source": [
    "## Model Evaluation"
   ]
  },
  {
   "cell_type": "code",
   "execution_count": 35,
   "id": "78824fcf",
   "metadata": {},
   "outputs": [],
   "source": [
    "y_pred=lr.predict(x_test)"
   ]
  },
  {
   "cell_type": "code",
   "execution_count": 36,
   "id": "849568ea",
   "metadata": {},
   "outputs": [
    {
     "name": "stdout",
     "output_type": "stream",
     "text": [
      "Mean Squared Error: 7.921910545531257\n"
     ]
    }
   ],
   "source": [
    "from sklearn.metrics import mean_squared_error\n",
    "mse = mean_squared_error(y_test, y_pred)\n",
    "print(\"Mean Squared Error:\", mse)"
   ]
  },
  {
   "cell_type": "code",
   "execution_count": 37,
   "id": "85222f21",
   "metadata": {},
   "outputs": [
    {
     "name": "stdout",
     "output_type": "stream",
     "text": [
      "r2_score of this Model is:- 0.9996879588134863\n"
     ]
    }
   ],
   "source": [
    "from sklearn.metrics import r2_score\n",
    "r2 = r2_score(y_test, y_pred)\n",
    "print(\"r2_score of this Model is:-\",r2_score(y_test,y_pred))"
   ]
  },
  {
   "cell_type": "code",
   "execution_count": 38,
   "id": "56b36478",
   "metadata": {},
   "outputs": [],
   "source": [
    "# this model is 99% accurate for this dataset"
   ]
  },
  {
   "cell_type": "code",
   "execution_count": 39,
   "id": "eb2fa1b8",
   "metadata": {},
   "outputs": [
    {
     "name": "stdout",
     "output_type": "stream",
     "text": [
      "Predicted next day's opening price: [820.60207095]\n"
     ]
    }
   ],
   "source": [
    "next_day_features = x.iloc[[-1]]  # Assuming the last row contains the latest features\n",
    "next_day_opening_price = lr.predict(next_day_features)\n",
    "print(\"Predicted next day's opening price:\", next_day_opening_price)\n"
   ]
  },
  {
   "cell_type": "code",
   "execution_count": null,
   "id": "7e56cc41",
   "metadata": {},
   "outputs": [],
   "source": []
  },
  {
   "cell_type": "code",
   "execution_count": null,
   "id": "6a8dcd12",
   "metadata": {},
   "outputs": [],
   "source": []
  }
 ],
 "metadata": {
  "kernelspec": {
   "display_name": "Python 3 (ipykernel)",
   "language": "python",
   "name": "python3"
  },
  "language_info": {
   "codemirror_mode": {
    "name": "ipython",
    "version": 3
   },
   "file_extension": ".py",
   "mimetype": "text/x-python",
   "name": "python",
   "nbconvert_exporter": "python",
   "pygments_lexer": "ipython3",
   "version": "3.11.4"
  }
 },
 "nbformat": 4,
 "nbformat_minor": 5
}
